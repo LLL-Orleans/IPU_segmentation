{
 "cells": [
  {
   "cell_type": "code",
   "execution_count": null,
   "metadata": {},
   "outputs": [],
   "source": [
    "#creer env en python 2.7\n",
    "\n",
    "#installation dependences\n",
    "!pip install pympi-ling\n",
    "!pip install pathlib2\n",
    "\n",
    "# ajouter déclaration dans Elan.py sous /home/or-llsh-156-l01/anaconda3/envs/SPASS/lib/python2.7/site-packages/pympi/Elan.py :\n",
    "# # -*- coding: utf-8 -*-\n",
    "\n",
    "# ajouter l'import de la librairie pathlib2 dans Elan.py aussi\n",
    "# try:\n",
    "#     import pathlib\n",
    "# except ImportError:\n",
    "#     import pathlib2 as pathlib"
   ]
  },
  {
   "cell_type": "code",
   "execution_count": null,
   "metadata": {},
   "outputs": [],
   "source": [
    "import os\n",
    "import subprocess\n",
    "from pympi.Elan import Eaf\n",
    "\n",
    "# Chemin vers le dossier sppas/bin\n",
    "# https://github.com/gmontcheuil/sppas/tree/master/sppas/bin\n",
    "sppas_bin = \"/home/or-llsh-156-l01/projets/these/segmentation/sppas/bin\""
   ]
  },
  {
   "cell_type": "code",
   "execution_count": null,
   "metadata": {},
   "outputs": [
    {
     "name": "stdout",
     "output_type": "stream",
     "text": [
      "BEMW_HH19.wav: Non traité\n",
      "interview_foot.wav: Non traité\n",
      "dimw_b25.wav: Non traité\n"
     ]
    }
   ],
   "source": [
    "def creer_eaf(index_file, audio_file, sortie_eaf):\n",
    "    eaf = Eaf()\n",
    "    eaf.add_tier(\"IPUs\")  # Créer la tier \"IPUs\"\n",
    "    \n",
    "    with open(index_file, 'r') as f:\n",
    "        for line in f:\n",
    "            parts = line.strip().split()\n",
    "            if len(parts) == 3:\n",
    "                start, end, _ = parts\n",
    "                # Convertir les valeurs en millisecondes puis en entiers\n",
    "                start_ms = int(float(start) * 1000)\n",
    "                end_ms = int(float(end) * 1000)\n",
    "                eaf.add_annotation(\"IPUs\", start_ms, end_ms, \"\")\n",
    "    \n",
    "    eaf.add_linked_file(audio_file)  # Lier le fichier audio\n",
    "    eaf.to_file(sortie_eaf)  # Sauvegarder le fichier EAF\n",
    "\n",
    "def segmenter_ipus(dossier_audio, dossier_sortie):\n",
    "    for fichier in os.listdir(dossier_audio):\n",
    "        if fichier.endswith(\".wav\"):\n",
    "            chemin_audio = os.path.join(dossier_audio, fichier)\n",
    "            sortie = os.path.join(dossier_sortie, fichier.replace(\".wav\", \"\"))\n",
    "            commande = [\n",
    "                \"python\",\n",
    "                os.path.join(sppas_bin, \"wavsplit.py\"),\n",
    "                \"-w\", chemin_audio,\n",
    "                \"-o\", sortie,\n",
    "                \"-s\", \"0.100\"\n",
    "            ]\n",
    "            subprocess.call(commande)\n",
    "            \n",
    "            index_file = os.path.join(sortie, \"index.txt\")\n",
    "            sortie_eaf = os.path.join(dossier_sortie, fichier.replace(\".wav\", \".eaf\"))\n",
    "            try:\n",
    "                creer_eaf(index_file, chemin_audio, sortie_eaf)\n",
    "            except IOError:\n",
    "                print(fichier+ \": Non traité\")\n",
    "\n",
    "\n",
    "# Exemple d'utilisation\n",
    "segmenter_ipus(\"/home/or-llsh-156-l01/projets/these/audios\",\n",
    "                \"/home/or-llsh-156-l01/projets/these/output\")"
   ]
  },
  {
   "cell_type": "code",
   "execution_count": null,
   "metadata": {},
   "outputs": [],
   "source": []
  }
 ],
 "metadata": {
  "kernelspec": {
   "display_name": "SPASS",
   "language": "python",
   "name": "python3"
  },
  "language_info": {
   "codemirror_mode": {
    "name": "ipython",
    "version": 2
   },
   "file_extension": ".py",
   "mimetype": "text/x-python",
   "name": "python",
   "nbconvert_exporter": "python",
   "pygments_lexer": "ipython2",
   "version": "2.7.18"
  }
 },
 "nbformat": 4,
 "nbformat_minor": 2
}
